{
 "cells": [
  {
   "cell_type": "code",
   "execution_count": 1,
   "metadata": {
    "collapsed": false
   },
   "outputs": [
    {
     "name": "stdout",
     "output_type": "stream",
     "text": [
      "Hola mundo\n"
     ]
    }
   ],
   "source": [
    "print (\"Hola mundo\")"
   ]
  },
  {
   "cell_type": "code",
   "execution_count": 2,
   "metadata": {
    "collapsed": false
   },
   "outputs": [
    {
     "data": {
      "text/plain": [
       "10"
      ]
     },
     "execution_count": 2,
     "metadata": {},
     "output_type": "execute_result"
    }
   ],
   "source": [
    "5+5"
   ]
  },
  {
   "cell_type": "code",
   "execution_count": 6,
   "metadata": {
    "collapsed": false
   },
   "outputs": [
    {
     "name": "stdout",
     "output_type": "stream",
     "text": [
      "Hola mundo /n que rock\n"
     ]
    }
   ],
   "source": [
    "cadena = (\"Hola mundo \\n que rock\")\n",
    "print (cadena)"
   ]
  },
  {
   "cell_type": "code",
   "execution_count": 7,
   "metadata": {
    "collapsed": false
   },
   "outputs": [
    {
     "name": "stdout",
     "output_type": "stream",
     "text": [
      "HolaHolaHola\n"
     ]
    }
   ],
   "source": [
    "print (\"Hola\"*3)"
   ]
  },
  {
   "cell_type": "code",
   "execution_count": 3,
   "metadata": {
    "collapsed": false
   },
   "outputs": [
    {
     "name": "stdout",
     "output_type": "stream",
     "text": [
      "1\n",
      "Prueba terminada\n",
      "2\n",
      "Prueba terminada\n",
      "3\n",
      "Prueba terminada\n",
      "4\n",
      "Prueba terminada\n",
      "5\n",
      "Prueba terminada\n",
      "6\n",
      "Prueba terminada\n",
      "7\n",
      "Prueba terminada\n",
      "8\n",
      "Prueba terminada\n",
      "9\n",
      "Prueba terminada\n",
      "10\n",
      "Prueba terminada\n",
      "11\n",
      "Prueba terminada\n",
      "12\n",
      "Prueba terminada\n",
      "13\n",
      "Prueba terminada\n",
      "14\n",
      "Prueba terminada\n",
      "15\n",
      "Prueba terminada\n",
      "16\n",
      "Prueba terminada\n",
      "17\n",
      "Prueba terminada\n",
      "18\n",
      "Prueba terminada\n",
      "19\n",
      "Prueba terminada\n",
      "20\n",
      "Prueba terminada\n",
      "Prueba final terminada\n"
     ]
    }
   ],
   "source": [
    "i = 1\n",
    "while i <= 20:\n",
    "    print(i)\n",
    "    i += 1\n",
    "    print (\"Prueba terminada\")\n",
    "print (\"Prueba final terminada\")    "
   ]
  },
  {
   "cell_type": "code",
   "execution_count": 5,
   "metadata": {
    "collapsed": false
   },
   "outputs": [
    {
     "name": "stdout",
     "output_type": "stream",
     "text": [
      "Introduce n1\n",
      "Introduce m3\n",
      "6\n"
     ]
    }
   ],
   "source": [
    "n= int(input(\"Introduce n\"))\n",
    "m= int(input(\"Introduce m\"))\n",
    "temp=0\n",
    "i=n\n",
    "while i <=m:\n",
    "    temp = temp + i\n",
    "    i += 1\n",
    "print(temp)\n"
   ]
  },
  {
   "cell_type": "code",
   "execution_count": null,
   "metadata": {
    "collapsed": false
   },
   "outputs": [],
   "source": [
    "m= int(input(\"Introduce un numero entero positivo\"))\n"
   ]
  },
  {
   "cell_type": "code",
   "execution_count": 4,
   "metadata": {
    "collapsed": true
   },
   "outputs": [],
   "source": [
    "!start ."
   ]
  },
  {
   "cell_type": "code",
   "execution_count": null,
   "metadata": {
    "collapsed": true
   },
   "outputs": [],
   "source": []
  }
 ],
 "metadata": {
  "anaconda-cloud": {},
  "kernelspec": {
   "display_name": "Python [default]",
   "language": "python",
   "name": "python2"
  },
  "language_info": {
   "codemirror_mode": {
    "name": "ipython",
    "version": 2
   },
   "file_extension": ".py",
   "mimetype": "text/x-python",
   "name": "python",
   "nbconvert_exporter": "python",
   "pygments_lexer": "ipython2",
   "version": "2.7.12"
  }
 },
 "nbformat": 4,
 "nbformat_minor": 1
}
